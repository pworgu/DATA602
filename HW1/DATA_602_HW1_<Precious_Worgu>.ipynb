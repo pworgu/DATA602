{
  "nbformat": 4,
  "nbformat_minor": 0,
  "metadata": {
    "colab": {
      "provenance": [],
      "collapsed_sections": []
    },
    "kernelspec": {
      "name": "python3",
      "display_name": "Python 3"
    },
    "language_info": {
      "name": "python"
    }
  },
  "cells": [
    {
      "cell_type": "markdown",
      "source": [
        "#Problem 9"
      ],
      "metadata": {
        "id": "y0qA131vos1N"
      }
    },
    {
      "cell_type": "code",
      "source": [
        "import networkx as nx\n",
        "G_symmetric = nx.Graph()\n",
        "G_symmetric.add_edge('A','B')\n",
        "G_symmetric.add_edge('A','C')\n",
        "G_symmetric.add_edge('A','D')\n",
        "G_symmetric.add_edge('B','C')\n",
        "G_symmetric.add_edge('D','C')\n",
        "\n",
        "nx.draw_networkx(G_symmetric)"
      ],
      "metadata": {
        "colab": {
          "base_uri": "https://localhost:8080/",
          "height": 261
        },
        "id": "yAbXsuFbaDw5",
        "outputId": "daaa8f65-b527-462a-a019-cb3bc1bdd860"
      },
      "execution_count": 69,
      "outputs": [
        {
          "output_type": "display_data",
          "data": {
            "text/plain": [
              "<Figure size 540x252 with 1 Axes>"
            ],
            "image/png": "[encoded data removed]"
          },
          "metadata": {}
        }
      ]
    },
    {
      "cell_type": "markdown",
      "source": [
        "#Problem 8"
      ],
      "metadata": {
        "id": "kQ1tIvD4oySK"
      }
    },
    {
      "cell_type": "code",
      "source": [
        "def find(arr, pos, m, isRunning):\n",
        "\td = [0] * (m + 1)\n",
        "\tfor i in range(m - 1, pos, -1):\n",
        "\t\n",
        "\t\tif isRunning[arr[i]]:\n",
        "\t\t\td[arr[i]] = i\n",
        "\tmaxipos = 0\n",
        "\tfor ele in d:\n",
        "\t\tmaxipos = max(ele, maxipos)\n",
        "\n",
        "\treturn maxipos\n",
        "def mincost(n, m, arr):\n",
        "\tfreqarr = [[] for i in range(m)]\n",
        "\n",
        "\tnewvec = [0] * (m + 1)\n",
        "\tfreqarr[m - 1] = newvec[:]\n",
        "\tfor i in range(m - 2, -1, -1):\n",
        "\t\n",
        "\t\tnv = freqarr[i + 1][:]\n",
        "\t\tnv[arr[i + 1]] += 1\n",
        "\t\tfreqarr[i] = nv[:]\n",
        "\n",
        "\tisRunning = [False] * (m + 1)\n",
        "\tcost = 0\n",
        "\n",
        "\ttruecount = 0\n",
        "\n",
        "\t\n",
        "\tfor i in range(0, m):\n",
        "\t\tele = arr[i]\n",
        "\t\tif isRunning[ele] == True:\n",
        "\t\t\tcontinue\n",
        "\t\telse:\n",
        "\t\t\tif truecount < n:\n",
        "\t\t\t\tcost += 1\n",
        "\t\t\t\ttruecount += 1\n",
        "\t\t\t\tisRunning[ele] = True\n",
        "\t\t\telse:\n",
        "\n",
        "\t\t\t\tmini = 100000\n",
        "\n",
        "\t\t\t\tminiind = 0\n",
        "\t\t\t\tfor j in range(1, m + 1):\n",
        "\t\t\t\t\tif isRunning[j] and mini > freqarr[i][j]:\n",
        "\t\t\t\t\t\tmini = freqarr[i][j]\n",
        "\t\t\t\t\t\tminiind = j\n",
        "\t\t\t\tif mini == 0:\n",
        "\t\t\t\t\tisRunning[miniind] = False\n",
        "\t\t\t\t\tisRunning[ele] = True\n",
        "\t\t\t\t\tcost += 1\n",
        "\t\t\t\telse:\n",
        "\t\t\t\t\tfarpos = find(arr, i, m, isRunning)\n",
        "\t\t\t\t\tisRunning[arr[farpos]] = False\n",
        "\t\t\t\t\tisRunning[ele] = True\n",
        "\t\t\t\t\tcost += 1\n",
        "\treturn cost\n",
        "\n",
        "if __name__ == \"__main__\":\n",
        "\n",
        "\tn1, m1 = 3, 6\n",
        "\tarr1 = [1, 2, 1, 3, 4, 1]\n",
        "\tprint(mincost(n1, m1, arr1))\n",
        "\tn2, m2 = 2, 6\n",
        "\tarr2 = [1, 2, 1, 3, 2, 1]\n",
        "\tprint(mincost(n2, m2, arr2))\n",
        "\tn3, m3 = 3, 31\n",
        "\tarr3 = [7, 11, 17, 10, 7, 10, 2, 9,\n",
        "\t\t\t2, 18, 8, 10, 20, 10, 3, 20,\n",
        "\t\t\t17, 17, 17, 1, 15, 10, 8, 3,\n",
        "\t\t\t3, 18, 13, 2, 10, 10, 11]\n",
        "\t\t\t\n",
        "\tprint(mincost(n3, m3, arr3))\n",
        "\n"
      ],
      "metadata": {
        "colab": {
          "base_uri": "https://localhost:8080/"
        },
        "id": "Y45526iIL-p3",
        "outputId": "f455ac5d-3a11-4639-9eee-aff754b60e55"
      },
      "execution_count": 56,
      "outputs": [
        {
          "output_type": "stream",
          "name": "stdout",
          "text": [
            "4\n",
            "4\n",
            "18\n"
          ]
        }
      ]
    }
  ]
}